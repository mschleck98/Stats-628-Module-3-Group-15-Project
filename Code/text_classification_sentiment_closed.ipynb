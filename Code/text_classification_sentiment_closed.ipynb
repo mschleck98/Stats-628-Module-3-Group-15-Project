{
 "cells": [
  {
   "cell_type": "code",
   "execution_count": 7,
   "metadata": {},
   "outputs": [
    {
     "name": "stderr",
     "output_type": "stream",
     "text": [
      "[nltk_data] Downloading package omw-1.4 to\n",
      "[nltk_data]     /Users/wangjiayang/nltk_data...\n",
      "[nltk_data]   Package omw-1.4 is already up-to-date!\n"
     ]
    },
    {
     "name": "stdout",
     "output_type": "stream",
     "text": [
      "state\n",
      "PA    1122\n",
      "Name: business_id, dtype: int64\n"
     ]
    }
   ],
   "source": [
    "import pandas as pd\n",
    "import numpy as np\n",
    "import re\n",
    "\n",
    "import nltk\n",
    "nltk.download('omw-1.4')\n",
    "\n",
    "## for w2v\n",
    "import gensim\n",
    "import gensim.downloader as gensim_api\n",
    "## for bert\n",
    "import transformers\n",
    "from sklearn import metrics, manifold\n",
    "\n",
    "\n",
    "# df=pd.read_csv(\"/Users/shravankaul/Desktop/UWM/STAT 628 project/yelp_dataset_2022/data_cleaned.csv\")\n",
    "df=pd.read_csv(\"/Users/wangjiayang/Desktop/STAT628/yelp_dataset_2022/data_cleaned_PA.csv\")\n",
    "\n",
    "res=df\n",
    "print (res.groupby('state')['business_id'].nunique())\n",
    "\n",
    "options = ['PA'] \n",
    "res = res[res['state'].isin(options)] \n",
    "res= res[['user_id','business_id','review_id','text_x','stars_y']]"
   ]
  },
  {
   "cell_type": "code",
   "execution_count": 8,
   "metadata": {},
   "outputs": [
    {
     "data": {
      "text/plain": [
       "87904"
      ]
     },
     "execution_count": 8,
     "metadata": {},
     "output_type": "execute_result"
    }
   ],
   "source": [
    "len(res)"
   ]
  },
  {
   "cell_type": "code",
   "execution_count": 9,
   "metadata": {},
   "outputs": [],
   "source": [
    "res.reset_index(drop=True, inplace=True)"
   ]
  },
  {
   "cell_type": "code",
   "execution_count": 10,
   "metadata": {},
   "outputs": [],
   "source": [
    "import spacy\n",
    "\n",
    "nlp = spacy.load('en_core_web_lg')"
   ]
  },
  {
   "cell_type": "code",
   "execution_count": 11,
   "metadata": {},
   "outputs": [],
   "source": [
    "def embed(tokens, nlp):\n",
    "\n",
    "    lexemes = (nlp.vocab[token] for token in tokens)\n",
    "\n",
    "    vectors = np.asarray([\n",
    "        lexeme.vector\n",
    "        for lexeme in lexemes\n",
    "        if lexeme.has_vector\n",
    "        and not lexeme.is_stop\n",
    "        and len(lexeme.text) > 1\n",
    "    ])\n",
    "\n",
    "    if len(vectors) > 0:\n",
    "        centroid = vectors.mean(axis=0)\n",
    "    else:\n",
    "        width = nlp.meta['vectors']['width']  # typically 300\n",
    "        centroid = np.zeros(width)\n",
    "\n",
    "    return centroid"
   ]
  },
  {
   "cell_type": "code",
   "execution_count": 13,
   "metadata": {},
   "outputs": [],
   "source": [
    "def utils_preprocess_text(text, flg_stemm=False, flg_lemm=True, lst_stopwords=None):\n",
    "    ## clean (convert to lowercase and remove punctuations and characters and then strip)\n",
    "    text = re.sub(r'[^\\w\\s]', '', str(text).lower().strip())\n",
    "            \n",
    "    ## Tokenize (convert from string to list)\n",
    "    lst_text = text.split()    \n",
    "    ## remove Stopwords\n",
    "    if lst_stopwords is not None:\n",
    "        lst_text = [word for word in lst_text if word not in \n",
    "                    lst_stopwords]\n",
    "                \n",
    "    ## Stemming (remove -ing, -ly, ...)\n",
    "    if flg_stemm == True:\n",
    "        ps = nltk.stem.porter.PorterStemmer()\n",
    "        lst_text = [ps.stem(word) for word in lst_text]\n",
    "                \n",
    "    ## Lemmatisation (convert the word into root word)\n",
    "    if flg_lemm == True:\n",
    "        lem = nltk.stem.wordnet.WordNetLemmatizer()\n",
    "        lst_text = [lem.lemmatize(word) for word in lst_text]\n",
    "            \n",
    "    ## back to string from list\n",
    "    text = \" \".join(lst_text)\n",
    "    return text\n",
    "\n",
    "\n",
    "lst_stopwords = nltk.corpus.stopwords.words(\"english\")\n",
    "lst_stopwords.append('fuck')\n",
    "lst_stopwords.append('dick')\n",
    "lst_stopwords.append('prick')\n",
    "\n",
    "res[\"text_clean\"] = res[\"text_x\"].apply(lambda x: \n",
    "          utils_preprocess_text(x, flg_stemm=False, flg_lemm=True, \n",
    "          lst_stopwords=lst_stopwords))\n",
    "\n",
    "docs= res[\"text_clean\"]\n"
   ]
  },
  {
   "cell_type": "code",
   "execution_count": 14,
   "metadata": {},
   "outputs": [],
   "source": [
    "\n",
    "label_names = ['food', 'drink', 'price', 'service', 'ambience']"
   ]
  },
  {
   "cell_type": "code",
   "execution_count": 15,
   "metadata": {},
   "outputs": [
    {
     "data": {
      "text/plain": [
       "'place top notch phenomenal service fantastic ambiance go elsewhere food looked smelled amazing love creative everything cant stop daydreaming food hand best brunch experience life dont even like french toast usually there far delicious food thats ever entered mouth literally drooling writing chicken waffle unreal standout love flinstones pushuppop drink creative clever even deviled egg best ive personally ever everything right even come music super fun great experience ignore review thats 4 star must delusional'"
      ]
     },
     "execution_count": 15,
     "metadata": {},
     "output_type": "execute_result"
    }
   ],
   "source": [
    "doc=docs[0]\n",
    "doc"
   ]
  },
  {
   "cell_type": "code",
   "execution_count": 16,
   "metadata": {},
   "outputs": [
    {
     "data": {
      "text/plain": [
       "(300,)"
      ]
     },
     "execution_count": 16,
     "metadata": {},
     "output_type": "execute_result"
    }
   ],
   "source": [
    "tokens = doc.split(' ')\n",
    "centroid = embed(tokens, nlp)\n",
    "centroid.shape"
   ]
  },
  {
   "cell_type": "code",
   "execution_count": 17,
   "metadata": {},
   "outputs": [],
   "source": [
    "label_vectors = np.asarray([\n",
    "     embed(label.split(' '), nlp)\n",
    "    for label in label_names\n",
    " ])\n"
   ]
  },
  {
   "cell_type": "code",
   "execution_count": 18,
   "metadata": {},
   "outputs": [
    {
     "name": "stdout",
     "output_type": "stream",
     "text": [
      "(array([[0.38465881, 0.41406149, 0.5038673 , 0.62769869, 0.7351242 ]]), array([[4, 0, 1, 3, 2]]))\n"
     ]
    }
   ],
   "source": [
    "from sklearn.neighbors import NearestNeighbors\n",
    "from scipy import spatial\n",
    "neigh = NearestNeighbors(n_neighbors=5,metric=spatial.distance.cosine)\n",
    "neigh.fit(label_vectors)\n",
    "\n",
    "closest_label = neigh.kneighbors([centroid], return_distance=True)\n",
    "print(closest_label)\n"
   ]
  },
  {
   "cell_type": "code",
   "execution_count": 19,
   "metadata": {},
   "outputs": [
    {
     "data": {
      "text/plain": [
       "{4: 0.3846588134765625,\n",
       " 0: 0.4140614867210388,\n",
       " 1: 0.5038672983646393,\n",
       " 3: 0.627698689699173,\n",
       " 2: 0.7351242005825043}"
      ]
     },
     "execution_count": 19,
     "metadata": {},
     "output_type": "execute_result"
    }
   ],
   "source": [
    "\n",
    "gg={closest_label[1][0][i]: closest_label[0][0][i] for i in range(len(closest_label[1][0]))}\n",
    "gg"
   ]
  },
  {
   "cell_type": "code",
   "execution_count": 20,
   "metadata": {},
   "outputs": [
    {
     "name": "stderr",
     "output_type": "stream",
     "text": [
      "/Users/wangjiayang/opt/anaconda3/lib/python3.8/site-packages/scipy/spatial/distance.py:714: RuntimeWarning: invalid value encountered in double_scalars\n",
      "  dist = 1.0 - uv / np.sqrt(uu * vv)\n",
      "/Users/wangjiayang/opt/anaconda3/lib/python3.8/site-packages/scipy/spatial/distance.py:714: RuntimeWarning: invalid value encountered in double_scalars\n",
      "  dist = 1.0 - uv / np.sqrt(uu * vv)\n",
      "/Users/wangjiayang/opt/anaconda3/lib/python3.8/site-packages/scipy/spatial/distance.py:714: RuntimeWarning: invalid value encountered in double_scalars\n",
      "  dist = 1.0 - uv / np.sqrt(uu * vv)\n",
      "/Users/wangjiayang/opt/anaconda3/lib/python3.8/site-packages/scipy/spatial/distance.py:714: RuntimeWarning: invalid value encountered in double_scalars\n",
      "  dist = 1.0 - uv / np.sqrt(uu * vv)\n",
      "/Users/wangjiayang/opt/anaconda3/lib/python3.8/site-packages/scipy/spatial/distance.py:714: RuntimeWarning: invalid value encountered in double_scalars\n",
      "  dist = 1.0 - uv / np.sqrt(uu * vv)\n"
     ]
    }
   ],
   "source": [
    "def predict(doc, nlp, neigh):\n",
    "    tokens = doc.split(' ')\n",
    "    centroid = embed(tokens, nlp)\n",
    "    closest_label = neigh.kneighbors([centroid], return_distance=True)\n",
    "    return closest_label[0][0],closest_label[1][0]\n",
    "\n",
    "dist,label = map(list, zip(*[predict(doc, nlp, neigh)  for doc in docs]))\n"
   ]
  },
  {
   "cell_type": "code",
   "execution_count": 21,
   "metadata": {},
   "outputs": [],
   "source": [
    "zero_data = np.zeros(shape=(len(label),len(label[0])))\n",
    "df_classify = pd.DataFrame(zero_data,columns=[\"0\",\"1\",\"2\",\"3\",\"4\"])\n",
    "\n",
    "for i in range(len(label)):\n",
    "    for j in range(len(label[0])):\n",
    "        if label[i][j]==0:\n",
    "            df_classify[\"0\"][i]=dist[i][j]\n",
    "        elif label[i][j]==1:\n",
    "            df_classify[\"1\"][i]=dist[i][j]\n",
    "        elif label[i][j]==2:\n",
    "            df_classify[\"2\"][i]=dist[i][j]\n",
    "        elif label[i][j]==3:\n",
    "            df_classify[\"3\"][i]=dist[i][j]\n",
    "        elif label[i][j]==4:\n",
    "            df_classify[\"4\"][i]=dist[i][j]\n",
    "     "
   ]
  },
  {
   "cell_type": "code",
   "execution_count": 22,
   "metadata": {},
   "outputs": [],
   "source": [
    "df_classify.columns=['food', 'drink', 'price', 'service', 'ambience']"
   ]
  },
  {
   "cell_type": "code",
   "execution_count": 23,
   "metadata": {},
   "outputs": [
    {
     "data": {
      "text/html": [
       "<div>\n",
       "<style scoped>\n",
       "    .dataframe tbody tr th:only-of-type {\n",
       "        vertical-align: middle;\n",
       "    }\n",
       "\n",
       "    .dataframe tbody tr th {\n",
       "        vertical-align: top;\n",
       "    }\n",
       "\n",
       "    .dataframe thead th {\n",
       "        text-align: right;\n",
       "    }\n",
       "</style>\n",
       "<table border=\"1\" class=\"dataframe\">\n",
       "  <thead>\n",
       "    <tr style=\"text-align: right;\">\n",
       "      <th></th>\n",
       "      <th>food</th>\n",
       "      <th>drink</th>\n",
       "      <th>price</th>\n",
       "      <th>service</th>\n",
       "      <th>ambience</th>\n",
       "    </tr>\n",
       "  </thead>\n",
       "  <tbody>\n",
       "    <tr>\n",
       "      <th>0</th>\n",
       "      <td>0.414061</td>\n",
       "      <td>0.503867</td>\n",
       "      <td>0.735124</td>\n",
       "      <td>0.627699</td>\n",
       "      <td>0.384659</td>\n",
       "    </tr>\n",
       "    <tr>\n",
       "      <th>1</th>\n",
       "      <td>0.511236</td>\n",
       "      <td>0.477190</td>\n",
       "      <td>0.722486</td>\n",
       "      <td>0.676104</td>\n",
       "      <td>0.447329</td>\n",
       "    </tr>\n",
       "  </tbody>\n",
       "</table>\n",
       "</div>"
      ],
      "text/plain": [
       "       food     drink     price   service  ambience\n",
       "0  0.414061  0.503867  0.735124  0.627699  0.384659\n",
       "1  0.511236  0.477190  0.722486  0.676104  0.447329"
      ]
     },
     "execution_count": 23,
     "metadata": {},
     "output_type": "execute_result"
    }
   ],
   "source": [
    "\n",
    "df_classify[:2]"
   ]
  },
  {
   "cell_type": "code",
   "execution_count": 24,
   "metadata": {},
   "outputs": [],
   "source": [
    "df_classify.loc[df_classify['food'] > 0.70, 'food'] = 1\n",
    "df_classify.loc[df_classify['drink'] > 0.70, 'drink'] = 1\n",
    "df_classify.loc[df_classify['price'] > 0.70, 'price'] = 1\n",
    "df_classify.loc[df_classify['service'] > 0.70, 'service'] = 1\n",
    "df_classify.loc[df_classify['ambience'] > 0.70, 'ambience'] = 1"
   ]
  },
  {
   "cell_type": "code",
   "execution_count": 25,
   "metadata": {},
   "outputs": [
    {
     "data": {
      "text/html": [
       "<div>\n",
       "<style scoped>\n",
       "    .dataframe tbody tr th:only-of-type {\n",
       "        vertical-align: middle;\n",
       "    }\n",
       "\n",
       "    .dataframe tbody tr th {\n",
       "        vertical-align: top;\n",
       "    }\n",
       "\n",
       "    .dataframe thead th {\n",
       "        text-align: right;\n",
       "    }\n",
       "</style>\n",
       "<table border=\"1\" class=\"dataframe\">\n",
       "  <thead>\n",
       "    <tr style=\"text-align: right;\">\n",
       "      <th></th>\n",
       "      <th>food</th>\n",
       "      <th>drink</th>\n",
       "      <th>price</th>\n",
       "      <th>service</th>\n",
       "      <th>ambience</th>\n",
       "    </tr>\n",
       "  </thead>\n",
       "  <tbody>\n",
       "    <tr>\n",
       "      <th>0</th>\n",
       "      <td>0.585939</td>\n",
       "      <td>0.496133</td>\n",
       "      <td>0.000000</td>\n",
       "      <td>0.372301</td>\n",
       "      <td>0.615341</td>\n",
       "    </tr>\n",
       "    <tr>\n",
       "      <th>1</th>\n",
       "      <td>0.488764</td>\n",
       "      <td>0.522810</td>\n",
       "      <td>0.000000</td>\n",
       "      <td>0.323896</td>\n",
       "      <td>0.552671</td>\n",
       "    </tr>\n",
       "    <tr>\n",
       "      <th>2</th>\n",
       "      <td>0.609678</td>\n",
       "      <td>0.638099</td>\n",
       "      <td>0.000000</td>\n",
       "      <td>0.000000</td>\n",
       "      <td>0.407781</td>\n",
       "    </tr>\n",
       "    <tr>\n",
       "      <th>3</th>\n",
       "      <td>0.579838</td>\n",
       "      <td>0.522945</td>\n",
       "      <td>0.496539</td>\n",
       "      <td>0.428235</td>\n",
       "      <td>0.541877</td>\n",
       "    </tr>\n",
       "    <tr>\n",
       "      <th>4</th>\n",
       "      <td>0.638008</td>\n",
       "      <td>0.558445</td>\n",
       "      <td>0.407505</td>\n",
       "      <td>0.381120</td>\n",
       "      <td>0.509049</td>\n",
       "    </tr>\n",
       "    <tr>\n",
       "      <th>...</th>\n",
       "      <td>...</td>\n",
       "      <td>...</td>\n",
       "      <td>...</td>\n",
       "      <td>...</td>\n",
       "      <td>...</td>\n",
       "    </tr>\n",
       "    <tr>\n",
       "      <th>87899</th>\n",
       "      <td>0.645746</td>\n",
       "      <td>0.611957</td>\n",
       "      <td>0.300618</td>\n",
       "      <td>0.000000</td>\n",
       "      <td>0.445449</td>\n",
       "    </tr>\n",
       "    <tr>\n",
       "      <th>87900</th>\n",
       "      <td>0.580656</td>\n",
       "      <td>0.561727</td>\n",
       "      <td>0.372583</td>\n",
       "      <td>0.430459</td>\n",
       "      <td>0.531810</td>\n",
       "    </tr>\n",
       "    <tr>\n",
       "      <th>87901</th>\n",
       "      <td>0.483534</td>\n",
       "      <td>0.586383</td>\n",
       "      <td>0.000000</td>\n",
       "      <td>0.000000</td>\n",
       "      <td>0.418747</td>\n",
       "    </tr>\n",
       "    <tr>\n",
       "      <th>87902</th>\n",
       "      <td>0.532742</td>\n",
       "      <td>0.530287</td>\n",
       "      <td>0.395059</td>\n",
       "      <td>0.335536</td>\n",
       "      <td>0.557534</td>\n",
       "    </tr>\n",
       "    <tr>\n",
       "      <th>87903</th>\n",
       "      <td>0.428308</td>\n",
       "      <td>0.473984</td>\n",
       "      <td>0.000000</td>\n",
       "      <td>0.000000</td>\n",
       "      <td>0.535085</td>\n",
       "    </tr>\n",
       "  </tbody>\n",
       "</table>\n",
       "<p>87904 rows × 5 columns</p>\n",
       "</div>"
      ],
      "text/plain": [
       "           food     drink     price   service  ambience\n",
       "0      0.585939  0.496133  0.000000  0.372301  0.615341\n",
       "1      0.488764  0.522810  0.000000  0.323896  0.552671\n",
       "2      0.609678  0.638099  0.000000  0.000000  0.407781\n",
       "3      0.579838  0.522945  0.496539  0.428235  0.541877\n",
       "4      0.638008  0.558445  0.407505  0.381120  0.509049\n",
       "...         ...       ...       ...       ...       ...\n",
       "87899  0.645746  0.611957  0.300618  0.000000  0.445449\n",
       "87900  0.580656  0.561727  0.372583  0.430459  0.531810\n",
       "87901  0.483534  0.586383  0.000000  0.000000  0.418747\n",
       "87902  0.532742  0.530287  0.395059  0.335536  0.557534\n",
       "87903  0.428308  0.473984  0.000000  0.000000  0.535085\n",
       "\n",
       "[87904 rows x 5 columns]"
      ]
     },
     "execution_count": 25,
     "metadata": {},
     "output_type": "execute_result"
    }
   ],
   "source": [
    "df_classify = 1-df_classify\n",
    "df_classify"
   ]
  },
  {
   "cell_type": "code",
   "execution_count": 26,
   "metadata": {},
   "outputs": [
    {
     "name": "stdout",
     "output_type": "stream",
     "text": [
      "2022-12-07 17:46:51,613 loading file /Users/wangjiayang/.flair/models/sentiment-en-mix-distillbert_4.pt\n"
     ]
    }
   ],
   "source": [
    "#Sentiment Analysis\n",
    "gg=res[:10]\n",
    "from flair.models import TextClassifier\n",
    "from flair.data import Sentence\n",
    "sia = TextClassifier.load('en-sentiment')\n",
    "def flair_prediction(x):\n",
    "    sentence = Sentence(x)\n",
    "    sia.predict(sentence)\n",
    "    sentence.labels[0].to_dict()\n",
    "    attitude=sentence.labels[0].value\n",
    "    score=sentence.labels[0].score\n",
    "    if attitude=='NEGATIVE':\n",
    "        score=-score\n",
    "    return score\n",
    "res[\"sentiment score\"] = res[\"text_clean\"].apply(flair_prediction)\n",
    "\n",
    "\n",
    "\n",
    "\n"
   ]
  },
  {
   "cell_type": "code",
   "execution_count": 27,
   "metadata": {},
   "outputs": [
    {
     "data": {
      "text/html": [
       "<div>\n",
       "<style scoped>\n",
       "    .dataframe tbody tr th:only-of-type {\n",
       "        vertical-align: middle;\n",
       "    }\n",
       "\n",
       "    .dataframe tbody tr th {\n",
       "        vertical-align: top;\n",
       "    }\n",
       "\n",
       "    .dataframe thead th {\n",
       "        text-align: right;\n",
       "    }\n",
       "</style>\n",
       "<table border=\"1\" class=\"dataframe\">\n",
       "  <thead>\n",
       "    <tr style=\"text-align: right;\">\n",
       "      <th></th>\n",
       "      <th>user_id</th>\n",
       "      <th>business_id</th>\n",
       "      <th>review_id</th>\n",
       "      <th>text_x</th>\n",
       "      <th>stars_y</th>\n",
       "      <th>text_clean</th>\n",
       "      <th>sentiment score</th>\n",
       "    </tr>\n",
       "  </thead>\n",
       "  <tbody>\n",
       "    <tr>\n",
       "      <th>0</th>\n",
       "      <td>dldfg-X_QbBkhR2DOsQFWg</td>\n",
       "      <td>QdN72BWoyFypdGJhhI5r7g</td>\n",
       "      <td>z_fgvINjKZCw5RgByaTxxw</td>\n",
       "      <td>This place is top notch, with phenomenal servi...</td>\n",
       "      <td>5</td>\n",
       "      <td>place top notch phenomenal service fantastic a...</td>\n",
       "      <td>0.988117</td>\n",
       "    </tr>\n",
       "    <tr>\n",
       "      <th>1</th>\n",
       "      <td>3Nk8hO7cvu0GTJxmKyCOBw</td>\n",
       "      <td>QdN72BWoyFypdGJhhI5r7g</td>\n",
       "      <td>O0y-JZOppUbRTmU8IIXazw</td>\n",
       "      <td>Came here on a Saturday afternoon for brunch w...</td>\n",
       "      <td>5</td>\n",
       "      <td>came saturday afternoon brunch friend let say ...</td>\n",
       "      <td>0.994090</td>\n",
       "    </tr>\n",
       "    <tr>\n",
       "      <th>2</th>\n",
       "      <td>yJw-NqN5gW1wMGfSSMqBMw</td>\n",
       "      <td>QdN72BWoyFypdGJhhI5r7g</td>\n",
       "      <td>-O8dohaJ4nI_e_64jgsxLw</td>\n",
       "      <td>This place is INCREDIBLE! It's American food w...</td>\n",
       "      <td>5</td>\n",
       "      <td>place incredible american food twist start dri...</td>\n",
       "      <td>0.994347</td>\n",
       "    </tr>\n",
       "    <tr>\n",
       "      <th>3</th>\n",
       "      <td>3IFfnwuFB-Y_0vSOlqNpSQ</td>\n",
       "      <td>QdN72BWoyFypdGJhhI5r7g</td>\n",
       "      <td>jstzd6bBAiEhyB2b7cy0dg</td>\n",
       "      <td>Outrageously overpriced for what it is. Insult...</td>\n",
       "      <td>2</td>\n",
       "      <td>outrageously overpriced insultingly would one ...</td>\n",
       "      <td>-0.999409</td>\n",
       "    </tr>\n",
       "    <tr>\n",
       "      <th>4</th>\n",
       "      <td>IJTd6GhZd4hEoW8l4VoKEA</td>\n",
       "      <td>QdN72BWoyFypdGJhhI5r7g</td>\n",
       "      <td>uoMpzCdQ4-KYANZQWQudtg</td>\n",
       "      <td>Ekks, how hard is it to serve food that isn't ...</td>\n",
       "      <td>1</td>\n",
       "      <td>ekks hard serve food isnt raw hate giving 1 st...</td>\n",
       "      <td>-0.999929</td>\n",
       "    </tr>\n",
       "    <tr>\n",
       "      <th>5</th>\n",
       "      <td>nBUnQnecIYYWuxk0g5njhw</td>\n",
       "      <td>QdN72BWoyFypdGJhhI5r7g</td>\n",
       "      <td>DiC22Mh6D_a3k5UhDjtEzg</td>\n",
       "      <td>Food here is AWESOME. Buffalo chicken egg roll...</td>\n",
       "      <td>5</td>\n",
       "      <td>food awesome buffalo chicken egg roll lamb bur...</td>\n",
       "      <td>0.996307</td>\n",
       "    </tr>\n",
       "    <tr>\n",
       "      <th>6</th>\n",
       "      <td>W4K4WEmzNVqbyF9oySrwBg</td>\n",
       "      <td>QdN72BWoyFypdGJhhI5r7g</td>\n",
       "      <td>Ygd_24TJuxeOJc4EEZJw6A</td>\n",
       "      <td>The best new bar in Philly. Amazing drink menu...</td>\n",
       "      <td>5</td>\n",
       "      <td>best new bar philly amazing drink menu taste g...</td>\n",
       "      <td>0.988230</td>\n",
       "    </tr>\n",
       "    <tr>\n",
       "      <th>7</th>\n",
       "      <td>YoIDy9T9_9UGljau5mKxcA</td>\n",
       "      <td>QdN72BWoyFypdGJhhI5r7g</td>\n",
       "      <td>wVKYcJNyS0u8I3VYebERbw</td>\n",
       "      <td>We are obsessed with this place. The bartender...</td>\n",
       "      <td>5</td>\n",
       "      <td>obsessed place bartender friendly drink taste ...</td>\n",
       "      <td>0.995959</td>\n",
       "    </tr>\n",
       "    <tr>\n",
       "      <th>8</th>\n",
       "      <td>vi6mqCFZitRwo_I85Osg5g</td>\n",
       "      <td>QdN72BWoyFypdGJhhI5r7g</td>\n",
       "      <td>A78ZQcwZnSLE_yMcXzyPGQ</td>\n",
       "      <td>Have been here twice with my boyfriend. We had...</td>\n",
       "      <td>4</td>\n",
       "      <td>twice boyfriend great food service time menu g...</td>\n",
       "      <td>-0.578572</td>\n",
       "    </tr>\n",
       "    <tr>\n",
       "      <th>9</th>\n",
       "      <td>6bxzJaXxGCqApmJsyIlr9w</td>\n",
       "      <td>QdN72BWoyFypdGJhhI5r7g</td>\n",
       "      <td>UjkWheIk6XFzHAVNZL8D_g</td>\n",
       "      <td>Stop waiting to come here and just eat a meal ...</td>\n",
       "      <td>4</td>\n",
       "      <td>stop waiting come eat meal already food simple...</td>\n",
       "      <td>0.519640</td>\n",
       "    </tr>\n",
       "  </tbody>\n",
       "</table>\n",
       "</div>"
      ],
      "text/plain": [
       "                  user_id             business_id               review_id  \\\n",
       "0  dldfg-X_QbBkhR2DOsQFWg  QdN72BWoyFypdGJhhI5r7g  z_fgvINjKZCw5RgByaTxxw   \n",
       "1  3Nk8hO7cvu0GTJxmKyCOBw  QdN72BWoyFypdGJhhI5r7g  O0y-JZOppUbRTmU8IIXazw   \n",
       "2  yJw-NqN5gW1wMGfSSMqBMw  QdN72BWoyFypdGJhhI5r7g  -O8dohaJ4nI_e_64jgsxLw   \n",
       "3  3IFfnwuFB-Y_0vSOlqNpSQ  QdN72BWoyFypdGJhhI5r7g  jstzd6bBAiEhyB2b7cy0dg   \n",
       "4  IJTd6GhZd4hEoW8l4VoKEA  QdN72BWoyFypdGJhhI5r7g  uoMpzCdQ4-KYANZQWQudtg   \n",
       "5  nBUnQnecIYYWuxk0g5njhw  QdN72BWoyFypdGJhhI5r7g  DiC22Mh6D_a3k5UhDjtEzg   \n",
       "6  W4K4WEmzNVqbyF9oySrwBg  QdN72BWoyFypdGJhhI5r7g  Ygd_24TJuxeOJc4EEZJw6A   \n",
       "7  YoIDy9T9_9UGljau5mKxcA  QdN72BWoyFypdGJhhI5r7g  wVKYcJNyS0u8I3VYebERbw   \n",
       "8  vi6mqCFZitRwo_I85Osg5g  QdN72BWoyFypdGJhhI5r7g  A78ZQcwZnSLE_yMcXzyPGQ   \n",
       "9  6bxzJaXxGCqApmJsyIlr9w  QdN72BWoyFypdGJhhI5r7g  UjkWheIk6XFzHAVNZL8D_g   \n",
       "\n",
       "                                              text_x  stars_y  \\\n",
       "0  This place is top notch, with phenomenal servi...        5   \n",
       "1  Came here on a Saturday afternoon for brunch w...        5   \n",
       "2  This place is INCREDIBLE! It's American food w...        5   \n",
       "3  Outrageously overpriced for what it is. Insult...        2   \n",
       "4  Ekks, how hard is it to serve food that isn't ...        1   \n",
       "5  Food here is AWESOME. Buffalo chicken egg roll...        5   \n",
       "6  The best new bar in Philly. Amazing drink menu...        5   \n",
       "7  We are obsessed with this place. The bartender...        5   \n",
       "8  Have been here twice with my boyfriend. We had...        4   \n",
       "9  Stop waiting to come here and just eat a meal ...        4   \n",
       "\n",
       "                                          text_clean  sentiment score  \n",
       "0  place top notch phenomenal service fantastic a...         0.988117  \n",
       "1  came saturday afternoon brunch friend let say ...         0.994090  \n",
       "2  place incredible american food twist start dri...         0.994347  \n",
       "3  outrageously overpriced insultingly would one ...        -0.999409  \n",
       "4  ekks hard serve food isnt raw hate giving 1 st...        -0.999929  \n",
       "5  food awesome buffalo chicken egg roll lamb bur...         0.996307  \n",
       "6  best new bar philly amazing drink menu taste g...         0.988230  \n",
       "7  obsessed place bartender friendly drink taste ...         0.995959  \n",
       "8  twice boyfriend great food service time menu g...        -0.578572  \n",
       "9  stop waiting come eat meal already food simple...         0.519640  "
      ]
     },
     "execution_count": 27,
     "metadata": {},
     "output_type": "execute_result"
    }
   ],
   "source": [
    "res[:10]"
   ]
  },
  {
   "cell_type": "code",
   "execution_count": 1,
   "metadata": {},
   "outputs": [
    {
     "ename": "NameError",
     "evalue": "name 'df_classify' is not defined",
     "output_type": "error",
     "traceback": [
      "\u001b[0;31m---------------------------------------------------------------------------\u001b[0m",
      "\u001b[0;31mNameError\u001b[0m                                 Traceback (most recent call last)",
      "\u001b[0;32m/var/folders/jz/jn0l0l4s3lgfw7npw6yvl3vr0000gn/T/ipykernel_29723/2610619572.py\u001b[0m in \u001b[0;36m<module>\u001b[0;34m\u001b[0m\n\u001b[0;32m----> 1\u001b[0;31m \u001b[0mdf_classify\u001b[0m \u001b[0;34m=\u001b[0m \u001b[0mdf_classify\u001b[0m\u001b[0;34m*\u001b[0m\u001b[0mres\u001b[0m\u001b[0;34m[\u001b[0m\u001b[0;34m\"sentiment score\"\u001b[0m\u001b[0;34m]\u001b[0m\u001b[0;34m\u001b[0m\u001b[0;34m\u001b[0m\u001b[0m\n\u001b[0m",
      "\u001b[0;31mNameError\u001b[0m: name 'df_classify' is not defined"
     ]
    }
   ],
   "source": [
    "\n"
   ]
  },
  {
   "cell_type": "code",
   "execution_count": 29,
   "metadata": {},
   "outputs": [],
   "source": [
    "df_comb = pd.concat([res, df_classify], axis=1)"
   ]
  },
  {
   "cell_type": "code",
   "execution_count": 31,
   "metadata": {},
   "outputs": [],
   "source": [
    "res.rename(columns = {'sentiment score':'sentiment_score'}, inplace = True)\n",
    "result = df_classify[['food', 'drink', 'price', 'service', 'ambience']].multiply(res[\"sentiment_score\"], axis=\"index\")\n",
    "\n",
    "df_comb = pd.concat([res, result], axis=1)\n",
    "\n",
    "final_grouped=df_comb.groupby(\"business_id\").mean()\n",
    "final_grouped.to_csv(\"final_sent_grouped_business_id_closed.csv\")"
   ]
  },
  {
   "cell_type": "code",
   "execution_count": null,
   "metadata": {},
   "outputs": [],
   "source": []
  }
 ],
 "metadata": {
  "kernelspec": {
   "display_name": "Python 3",
   "language": "python",
   "name": "python3"
  },
  "language_info": {
   "codemirror_mode": {
    "name": "ipython",
    "version": 3
   },
   "file_extension": ".py",
   "mimetype": "text/x-python",
   "name": "python",
   "nbconvert_exporter": "python",
   "pygments_lexer": "ipython3",
   "version": "3.8.5"
  }
 },
 "nbformat": 4,
 "nbformat_minor": 5
}
